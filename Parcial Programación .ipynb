{
 "cells": [
  {
   "cell_type": "markdown",
   "metadata": {
    "id": "3nYORGYF_6Dh"
   },
   "source": [
    "## Punto 1\n",
    "\n",
    "\n",
    "Elabore un programa que pida números de cuatro cifras e indique si los números son capicúas o no. El programa deberá ir pidiendo números hasta que el usuario introduce ‘-1’ por teclado. El número –1 indicará la finalización de la ejecución del programa\n",
    "\n",
    "**Nota 1:** Un número capicúa es simétrico p.e. 1221 ó 25752  \n",
    "**Nota 2:** Cuando el número no es de cuatro cifras se deberá mostrar un mensaje de error por pantalla y se pedirá otro número menor que 10000. En caso de que el número sea menor de cuatro cifras se completará con ceros a la izquierda.  \n",
    "**Nota 3:** El único número negativo que se aceptará es ‘-1’ que indicará la finalización del programa. Cualquier otro número negativo, se mostrará un mensaje de error.  \n",
    "**Nota 4:** Debe indicar cuando se ingresa un caracter o valor no valido."
   ]
  },
  {
   "cell_type": "code",
   "execution_count": 16,
   "metadata": {},
   "outputs": [
    {
     "name": "stdout",
     "output_type": "stream",
     "text": [
      "Escriba un numero natural menor a 10000:212\n",
      "El numero no es capicua\n"
     ]
    }
   ],
   "source": [
    "x = int(input('Escriba un numero natural menor a 10000:'))\n",
    "\n",
    "c= x/10000\n",
    "d= (x%1000)/100\n",
    "u=(x%1000)%100\n",
    "if (c == u):\n",
    "    print(\"El número es capicua\")\n",
    "else:\n",
    "    print(\"El numero no es capicua\")"
   ]
  },
  {
   "cell_type": "markdown",
   "metadata": {
    "id": "lNuKPyzpeGeI"
   },
   "source": [
    "# Punto 2\n",
    "Escriba un código que le permita hallar los números primos menores a 1000.\n",
    "\n",
    "Recuerde que:\n",
    "  1. Un número primo es aquel que tiene excatamente 2 divisores.\n",
    "  2. Los candidatos para dividir al número $n$ se hallan entre $1$ y $\\sqrt{n}$."
   ]
  },
  {
   "cell_type": "code",
   "execution_count": 39,
   "metadata": {},
   "outputs": [
    {
     "name": "stdout",
     "output_type": "stream",
     "text": [
      "Ingresa un numero: 121\n"
     ]
    },
    {
     "ename": "TypeError",
     "evalue": "'int' object is not iterable",
     "output_type": "error",
     "traceback": [
      "\u001b[0;31m---------------------------------------------------------------------------\u001b[0m",
      "\u001b[0;31mTypeError\u001b[0m                                 Traceback (most recent call last)",
      "\u001b[0;32m/var/folders/21/n8cgkmbn13x9bb8k_tghhq3w0000gn/T/ipykernel_1260/2066770645.py\u001b[0m in \u001b[0;36m<module>\u001b[0;34m\u001b[0m\n\u001b[1;32m     12\u001b[0m \u001b[0;34m\u001b[0m\u001b[0m\n\u001b[1;32m     13\u001b[0m \u001b[0;34m\u001b[0m\u001b[0m\n\u001b[0;32m---> 14\u001b[0;31m \u001b[0;32mfor\u001b[0m \u001b[0mx\u001b[0m \u001b[0;32min\u001b[0m \u001b[0mx\u001b[0m\u001b[0;34m:\u001b[0m\u001b[0;34m\u001b[0m\u001b[0;34m\u001b[0m\u001b[0m\n\u001b[0m\u001b[1;32m     15\u001b[0m     \u001b[0mes_capicua\u001b[0m \u001b[0;34m=\u001b[0m \u001b[0mcapicua\u001b[0m\u001b[0;34m(\u001b[0m\u001b[0mnumero\u001b[0m\u001b[0;34m)\u001b[0m\u001b[0;34m\u001b[0m\u001b[0;34m\u001b[0m\u001b[0m\n\u001b[1;32m     16\u001b[0m     \u001b[0mprint\u001b[0m\u001b[0;34m(\u001b[0m\u001b[0;34mf\"El número {numero} es capicúa? {es_capicua}\"\u001b[0m\u001b[0;34m)\u001b[0m\u001b[0;34m\u001b[0m\u001b[0;34m\u001b[0m\u001b[0m\n",
      "\u001b[0;31mTypeError\u001b[0m: 'int' object is not iterable"
     ]
    }
   ],
   "source": [
    "x = int(input('Ingresa un numero: '))\n",
    "def invertir_numero(x):\n",
    "    numeros = 0\n",
    "    while n != 0:\n",
    "        x= 10*x+n % 10\n",
    "        n //= 10\n",
    "    return x\n",
    "\n",
    "\n",
    "def capicua(x):\n",
    "    return x == invertir_numero(x)\n",
    "\n",
    "\n",
    "for x in x:\n",
    "    es_capicua = capicua(numero)\n",
    "    print(f\"El número {numero} es capicúa? {es_capicua}\")"
   ]
  },
  {
   "cell_type": "code",
   "execution_count": null,
   "metadata": {},
   "outputs": [],
   "source": []
  }
 ],
 "metadata": {
  "colab": {
   "name": "Programación.ipynb",
   "provenance": []
  },
  "kernelspec": {
   "display_name": "Python 3 (ipykernel)",
   "language": "python",
   "name": "python3"
  },
  "language_info": {
   "codemirror_mode": {
    "name": "ipython",
    "version": 3
   },
   "file_extension": ".py",
   "mimetype": "text/x-python",
   "name": "python",
   "nbconvert_exporter": "python",
   "pygments_lexer": "ipython3",
   "version": "3.9.7"
  }
 },
 "nbformat": 4,
 "nbformat_minor": 1
}
