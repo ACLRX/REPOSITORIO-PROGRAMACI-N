{
 "cells": [
  {
   "cell_type": "markdown",
   "id": "d77b5723",
   "metadata": {},
   "source": [
    "**Cree las siguientes funciones, con su debida documentación:**\n",
    "\n",
    "1. Cree una función que regrese como resultado el nombre de un restaurante y su NIT en una cadena de caracteres, pueden ser ficticios.\n",
    "2. Si en dicho restaurante cada persona consume en promedio 50.000, haga una función que permira calcular el valor de la cuenta, en promedio, dado el número de comensales.\n",
    "3. En el total calculado en el punto anterior se incluye el impuesto al consumo, cree una función que le permita conocer el valor que debería pagar sin dicho impuesto el cual asciende al $8\\%$.\n",
    "4. Una función que tenga como argumentos de entrada nombre de una persona y cantidad de comensales, la función debe tener como respuesta un \"recibo\" en el que aparezca el nombre del restaurante, su NIT, el nombre del cliente, el valor de la factura sin impuestos y con impuestos (sug: emplee como base las funciones creadas anteriormente).\n",
    "5. Una función que permita calcular el máximo entre dos números.\n",
    "6. Una función que ordene de menor a mayor tres números.\n",
    "7. Una función que dadas 5 notas de un estudiante, le permitan calcular la definitiva de la materia (nota 1: 10%, nota 2: 20%, nota 3: 30%, nota 4: 15%, nota 5: 25%) junto a un mensaje el cual resuma el desempeño del estudiante en el curso. (*Sug*: utilice los intervalos $0\\leq x<1,\\ 1\\leq x<2,\\ 2\\leq x<3,\\ 3\\leq x<4, 4\\leq x<4.5,\\ 4.5\\leq x\\leq5 $)"
   ]
  },
  {
   "cell_type": "markdown",
   "id": "40eb643f",
   "metadata": {},
   "source": [
    "* 1. Cree una función que regrese como resultado el nombre de un restaurante y su NIT en una cadena de caracteres, pueden ser ficticios."
   ]
  },
  {
   "cell_type": "code",
   "execution_count": 129,
   "id": "e8e73247",
   "metadata": {},
   "outputs": [],
   "source": [
    "def restau ():\n",
    "    x = 'Restaurante Naura'\n",
    "    y = 'NIT: 4567895'\n",
    "    print(x)\n",
    "    return (y)"
   ]
  },
  {
   "cell_type": "code",
   "execution_count": 130,
   "id": "9c74dda0",
   "metadata": {},
   "outputs": [
    {
     "name": "stdout",
     "output_type": "stream",
     "text": [
      "Restaurante Naura\n"
     ]
    },
    {
     "data": {
      "text/plain": [
       "'NIT: 4567895'"
      ]
     },
     "execution_count": 130,
     "metadata": {},
     "output_type": "execute_result"
    }
   ],
   "source": [
    "restau ()"
   ]
  },
  {
   "cell_type": "markdown",
   "id": "6b64d12b",
   "metadata": {},
   "source": [
    "* 2. Si en dicho restaurante cada persona consume en promedio 50.000, haga una función que permira calcular el valor de la cuenta, en promedio, dado el número de comensales."
   ]
  },
  {
   "cell_type": "code",
   "execution_count": 131,
   "id": "7c8bcb1e",
   "metadata": {},
   "outputs": [],
   "source": [
    "def promediocuenta(x):\n",
    "    y = x*50000\n",
    "    return (y)"
   ]
  },
  {
   "cell_type": "code",
   "execution_count": 132,
   "id": "e2cf6972",
   "metadata": {},
   "outputs": [
    {
     "data": {
      "text/plain": [
       "328250000"
      ]
     },
     "execution_count": 132,
     "metadata": {},
     "output_type": "execute_result"
    }
   ],
   "source": [
    "promediocuenta (6565)"
   ]
  },
  {
   "cell_type": "markdown",
   "id": "b84fc357",
   "metadata": {},
   "source": [
    "* 3. En el total calculado en el punto anterior se incluye el impuesto al consumo, cree una función que le permita conocer el valor que debería pagar sin dicho impuesto el cual asciende al $8\\%$."
   ]
  },
  {
   "cell_type": "code",
   "execution_count": 133,
   "id": "e5ecf0b5",
   "metadata": {},
   "outputs": [],
   "source": [
    "def impuesto(x):\n",
    "    y = (x*50000)\n",
    "    z = 100/108\n",
    "    g= y*z\n",
    "    return(g)"
   ]
  },
  {
   "cell_type": "code",
   "execution_count": 134,
   "id": "de2f7c42",
   "metadata": {},
   "outputs": [
    {
     "data": {
      "text/plain": [
       "3611111.111111111"
      ]
     },
     "execution_count": 134,
     "metadata": {},
     "output_type": "execute_result"
    }
   ],
   "source": [
    "impuesto(78)"
   ]
  },
  {
   "cell_type": "markdown",
   "id": "c50c4b71",
   "metadata": {},
   "source": [
    "* 4. Una función que tenga como argumentos de entrada nombre de una persona y cantidad de comensales, la función debe tener como respuesta un \"recibo\" en el que aparezca el nombre del restaurante, su NIT, el nombre del cliente, el valor de la factura sin impuestos y con impuestos (sug: emplee como base las funciones creadas anteriormente)."
   ]
  },
  {
   "cell_type": "code",
   "execution_count": 135,
   "id": "4a5d1f5a",
   "metadata": {},
   "outputs": [],
   "source": [
    "def factura(c):\n",
    "    x= 'Miguel'\n",
    "    z =c\n",
    "    print (x)\n",
    "    print (restau())\n",
    "    print (c,'comensales')\n",
    "    print ('Precio con impuesto incluido:',promediocuenta(c))\n",
    "    print ('Precio sin impuesto incluido:', impuesto(c))\n",
    "    return "
   ]
  },
  {
   "cell_type": "code",
   "execution_count": 139,
   "id": "3e53f96b",
   "metadata": {},
   "outputs": [
    {
     "name": "stdout",
     "output_type": "stream",
     "text": [
      "Miguel\n",
      "Restaurante Naura\n",
      "NIT: 4567895\n",
      "6 comensales\n",
      "Precio con impuesto incluido: 300000\n",
      "Precio sin impuesto incluido: 277777.77777777775\n"
     ]
    }
   ],
   "source": [
    "factura (6)"
   ]
  },
  {
   "cell_type": "markdown",
   "id": "20297223",
   "metadata": {},
   "source": [
    "* 5. Una función que permita calcular el máximo entre dos números."
   ]
  },
  {
   "cell_type": "code",
   "execution_count": 3,
   "id": "d9be678b",
   "metadata": {},
   "outputs": [],
   "source": [
    "def maximo(x,y):\n",
    "    if x<y:\n",
    "        print(y)\n",
    "    else:\n",
    "        print (x)\n",
    "    return"
   ]
  },
  {
   "cell_type": "code",
   "execution_count": 5,
   "id": "1eebbf64",
   "metadata": {},
   "outputs": [
    {
     "name": "stdout",
     "output_type": "stream",
     "text": [
      "456\n"
     ]
    }
   ],
   "source": [
    "maximo(133,456)"
   ]
  },
  {
   "cell_type": "markdown",
   "id": "663ce174",
   "metadata": {},
   "source": [
    "* 6. Una función que ordene de menor a mayor tres números."
   ]
  },
  {
   "cell_type": "code",
   "execution_count": 12,
   "id": "d2d545c8",
   "metadata": {},
   "outputs": [],
   "source": [
    "def menormayor(x,y,z):\n",
    "    \n",
    "    if x < y and y < z:\n",
    "        print(\"El menor es: \",x,\"-\",y,\"-\",z)\n",
    "    elif y < x and x < z:\n",
    "        print(\"El menor es:\",y,\"-\",x,\"-\",z)\n",
    "    elif z < x and x < y:\n",
    "        print(\"El menor es:\",z,\"-\",x,\"-\",y)\n",
    "    elif z < y and y < x:\n",
    "        print(\"El menor es:\",z,\"-\",y,\"-\",x)\n",
    "    elif(y < z and z < x):\n",
    "        print(\"El menor es:\",x,\"-\",z,\"-\",y)\n",
    "    elif(y < z and z < x):\n",
    "        print(\"El menor es:\",y,\"-\",z,\"-\",x)\n",
    "    else:\n",
    "        print(\"LOS NÚMEROS SON IGUALES\")\n",
    "        \n",
    "    return(x,y,z)"
   ]
  },
  {
   "cell_type": "code",
   "execution_count": 13,
   "id": "c7c5430b",
   "metadata": {},
   "outputs": [
    {
     "name": "stdout",
     "output_type": "stream",
     "text": [
      "El menor es: 3 - 54 - 34567\n"
     ]
    },
    {
     "data": {
      "text/plain": [
       "(34567, 54, 3)"
      ]
     },
     "execution_count": 13,
     "metadata": {},
     "output_type": "execute_result"
    }
   ],
   "source": [
    "menormayor (34567,54,3)"
   ]
  },
  {
   "cell_type": "markdown",
   "id": "c1fb62d7",
   "metadata": {},
   "source": [
    "7. Una función que dadas 5 notas de un estudiante, le permitan calcular la definitiva de la materia (nota 1: 10%, nota 2: 20%, nota 3: 30%, nota 4: 15%, nota 5: 25%) junto a un mensaje el cual resuma el desempeño del estudiante en el curso. (*Sug*: utilice los intervalos $0\\leq x<1,\\ 1\\leq x<2,\\ 2\\leq x<3,\\ 3\\leq x<4, 4\\leq x<4.5,\\ 4.5\\leq x\\leq5 $)"
   ]
  },
  {
   "cell_type": "code",
   "execution_count": 23,
   "id": "b666e7c7",
   "metadata": {},
   "outputs": [],
   "source": [
    "def promediar(n1,n2,n3,n4,n5):\n",
    "    promedio =((n1*0.10)+(n2*0.20)+(n3*0.30)+(n4*0.15)+(n5*0.25))\n",
    "    if promedio>= 4.5:\n",
    "        print(\"SUPERIOR\")\n",
    "\n",
    "    elif promedio>=4.0:\n",
    "        print(\" ALTO\")\n",
    "\n",
    "    elif promedio>= 3.0:\n",
    "        print(\"BÁSICO\")\n",
    "\n",
    "    else:\n",
    "        print(\"BAJO\")\n",
    "    return(promedio) "
   ]
  },
  {
   "cell_type": "code",
   "execution_count": 24,
   "id": "70bed189",
   "metadata": {},
   "outputs": [
    {
     "name": "stdout",
     "output_type": "stream",
     "text": [
      " ALTO\n"
     ]
    },
    {
     "data": {
      "text/plain": [
       "4.28"
      ]
     },
     "execution_count": 24,
     "metadata": {},
     "output_type": "execute_result"
    }
   ],
   "source": [
    "promediar (3.0,5.0,4.5,3.7,4.3)"
   ]
  },
  {
   "cell_type": "code",
   "execution_count": null,
   "id": "dd91c692",
   "metadata": {},
   "outputs": [],
   "source": []
  }
 ],
 "metadata": {
  "kernelspec": {
   "display_name": "Python 3 (ipykernel)",
   "language": "python",
   "name": "python3"
  },
  "language_info": {
   "codemirror_mode": {
    "name": "ipython",
    "version": 3
   },
   "file_extension": ".py",
   "mimetype": "text/x-python",
   "name": "python",
   "nbconvert_exporter": "python",
   "pygments_lexer": "ipython3",
   "version": "3.9.7"
  }
 },
 "nbformat": 4,
 "nbformat_minor": 5
}
